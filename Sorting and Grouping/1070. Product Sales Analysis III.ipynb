{
 "cells": [
  {
   "cell_type": "code",
   "execution_count": null,
   "id": "e26f2533",
   "metadata": {},
   "outputs": [],
   "source": [
    "import pandas as pd\n",
    "\n",
    "def sales_analysis(sales: pd.DataFrame, product: pd.DataFrame) -> pd.DataFrame:\n",
    "    df = sales.sort_values(by=['product_id', 'year'])[['product_id','year','quantity','price']]\n",
    "    drop_duplicate = df.drop_duplicates(['product_id'], keep='first')\n",
    "    merge = drop_duplicate.merge(df, on=['product_id', 'year'])\n",
    "    result_df = merge.rename(columns={\"year\": 'first_year','quantity_y':'quantity','price_y':'price'})\n",
    "    return result_df.drop(columns=['quantity_x','price_x'], axis=1)\n",
    "\n",
    "    "
   ]
  }
 ],
 "metadata": {
  "kernelspec": {
   "display_name": "Python 3 (ipykernel)",
   "language": "python",
   "name": "python3"
  },
  "language_info": {
   "codemirror_mode": {
    "name": "ipython",
    "version": 3
   },
   "file_extension": ".py",
   "mimetype": "text/x-python",
   "name": "python",
   "nbconvert_exporter": "python",
   "pygments_lexer": "ipython3",
   "version": "3.11.3"
  }
 },
 "nbformat": 4,
 "nbformat_minor": 5
}
