{
 "cells": [
  {
   "cell_type": "code",
   "execution_count": null,
   "id": "ba2ae538",
   "metadata": {},
   "outputs": [],
   "source": [
    "import pandas as pd\n",
    "import numpy as np\n",
    "def user_activity(activity: pd.DataFrame) -> pd.DataFrame:\n",
    "    date_diff_query = activity[((pd.to_datetime('2019-07-27') - activity['activity_date'])/ np.timedelta64(1, 'D')<30) & ((pd.to_datetime('2019-07-27') - activity['activity_date'])/ np.timedelta64(1, 'D')>0)]\n",
    "    df = date_diff_query.groupby(by=['activity_date'])['user_id'].nunique().reset_index(name='active_users')\n",
    "    return df.rename(columns={\"activity_date\": \"day\"}).sort_values(by='day')\n",
    "    "
   ]
  }
 ],
 "metadata": {
  "kernelspec": {
   "display_name": "Python 3 (ipykernel)",
   "language": "python",
   "name": "python3"
  },
  "language_info": {
   "codemirror_mode": {
    "name": "ipython",
    "version": 3
   },
   "file_extension": ".py",
   "mimetype": "text/x-python",
   "name": "python",
   "nbconvert_exporter": "python",
   "pygments_lexer": "ipython3",
   "version": "3.11.3"
  }
 },
 "nbformat": 4,
 "nbformat_minor": 5
}
