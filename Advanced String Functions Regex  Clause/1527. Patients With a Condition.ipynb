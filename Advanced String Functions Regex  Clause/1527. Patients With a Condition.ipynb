{
 "cells": [
  {
   "cell_type": "code",
   "execution_count": null,
   "id": "ca537552",
   "metadata": {},
   "outputs": [],
   "source": [
    "import pandas as pd\n",
    "\n",
    "def find_patients(patients: pd.DataFrame) -> pd.DataFrame:\n",
    "\n",
    "    patients['split_cond'] = patients['conditions'].apply(lambda x: x.split(\" \"))\n",
    "    for i in range(len(patients['split_cond'])):\n",
    "        for j in patients['split_cond'][i]:\n",
    "            if j.startswith('DIAB1'):\n",
    "                patients['split_cond'][i]=True\n",
    "                break\n",
    "        else:\n",
    "            patients['split_cond'][i]=False\n",
    "    \n",
    "    return patients[patients['split_cond']==True].drop(columns=['split_cond'])\n",
    "    "
   ]
  }
 ],
 "metadata": {
  "kernelspec": {
   "display_name": "Python 3 (ipykernel)",
   "language": "python",
   "name": "python3"
  },
  "language_info": {
   "codemirror_mode": {
    "name": "ipython",
    "version": 3
   },
   "file_extension": ".py",
   "mimetype": "text/x-python",
   "name": "python",
   "nbconvert_exporter": "python",
   "pygments_lexer": "ipython3",
   "version": "3.11.3"
  }
 },
 "nbformat": 4,
 "nbformat_minor": 5
}
