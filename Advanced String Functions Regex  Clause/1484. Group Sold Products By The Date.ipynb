{
 "cells": [
  {
   "cell_type": "code",
   "execution_count": null,
   "id": "9e951d4a",
   "metadata": {},
   "outputs": [],
   "source": [
    "import pandas as pd\n",
    "\n",
    "def categorize_products(activities: pd.DataFrame) -> pd.DataFrame:\n",
    "    # activities.sort_values(by='product', inplace=True)\n",
    "    # activities.drop_duplicates(subset=['sell_date','product'], inplace=True)\n",
    "    # activities['num_sold'] = activities.groupby('sell_date').transform(lambda x : x.count())\n",
    "    # activities['products'] = activities.groupby('sell_date')['product'].transform(lambda x : ','.join(x))\n",
    "    # return activities.drop_duplicates(subset=['sell_date'], keep='first')[['sell_date','num_sold','products']].sort_values(by='sell_date')\n",
    "\n",
    "    return activities.groupby('sell_date')['product'].agg([\n",
    "        ('num_sold', 'nunique'),\n",
    "        ('products', lambda x : ','.join(sorted(x.unique())))\n",
    "    ]).reset_index()\n",
    "    "
   ]
  }
 ],
 "metadata": {
  "kernelspec": {
   "display_name": "Python 3 (ipykernel)",
   "language": "python",
   "name": "python3"
  },
  "language_info": {
   "codemirror_mode": {
    "name": "ipython",
    "version": 3
   },
   "file_extension": ".py",
   "mimetype": "text/x-python",
   "name": "python",
   "nbconvert_exporter": "python",
   "pygments_lexer": "ipython3",
   "version": "3.11.3"
  }
 },
 "nbformat": 4,
 "nbformat_minor": 5
}
