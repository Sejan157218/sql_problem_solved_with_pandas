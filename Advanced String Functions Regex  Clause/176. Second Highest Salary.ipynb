{
 "cells": [
  {
   "cell_type": "code",
   "execution_count": null,
   "id": "852875e9",
   "metadata": {},
   "outputs": [],
   "source": [
    "import pandas as pd\n",
    "\n",
    "def second_highest_salary(employee: pd.DataFrame) -> pd.DataFrame:\n",
    "    df = employee['salary'].unique()\n",
    "    sort_df = sorted(df, reverse=True)\n",
    "    if len(sort_df)>1:\n",
    "        return pd.DataFrame([sort_df[1]], columns=['SecondHighestSalary'])\n",
    "    else:\n",
    "        return pd.DataFrame([None], columns=['SecondHighestSalary'])"
   ]
  }
 ],
 "metadata": {
  "kernelspec": {
   "display_name": "Python 3 (ipykernel)",
   "language": "python",
   "name": "python3"
  },
  "language_info": {
   "codemirror_mode": {
    "name": "ipython",
    "version": 3
   },
   "file_extension": ".py",
   "mimetype": "text/x-python",
   "name": "python",
   "nbconvert_exporter": "python",
   "pygments_lexer": "ipython3",
   "version": "3.11.3"
  }
 },
 "nbformat": 4,
 "nbformat_minor": 5
}
