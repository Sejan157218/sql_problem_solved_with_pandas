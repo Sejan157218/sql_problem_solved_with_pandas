{
 "cells": [
  {
   "cell_type": "code",
   "execution_count": null,
   "id": "33238f20",
   "metadata": {},
   "outputs": [],
   "source": [
    "import pandas as pd\n",
    "\n",
    "def get_average_time(activity: pd.DataFrame) -> pd.DataFrame:\n",
    "    activity['count']=activity.groupby('machine_id')['machine_id'].transform('count')\n",
    "    dff2 = activity.groupby(['machine_id','activity_type']).sum().reset_index()\n",
    "    dff2['count'] = activity['count']\n",
    "    dff2['processing_time'] = round((-(dff2['timestamp'].diff()))/(dff2['count']/2),3)\n",
    "    return dff2[dff2.activity_type=='start'][['machine_id','processing_time']]"
   ]
  }
 ],
 "metadata": {
  "kernelspec": {
   "display_name": "Python 3 (ipykernel)",
   "language": "python",
   "name": "python3"
  },
  "language_info": {
   "codemirror_mode": {
    "name": "ipython",
    "version": 3
   },
   "file_extension": ".py",
   "mimetype": "text/x-python",
   "name": "python",
   "nbconvert_exporter": "python",
   "pygments_lexer": "ipython3",
   "version": "3.11.3"
  }
 },
 "nbformat": 4,
 "nbformat_minor": 5
}
