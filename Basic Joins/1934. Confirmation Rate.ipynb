{
 "cells": [
  {
   "cell_type": "code",
   "execution_count": null,
   "id": "de9f0109",
   "metadata": {},
   "outputs": [],
   "source": [
    "import pandas as pd\n",
    "\n",
    "def confirmation_rate(signups: pd.DataFrame, confirmations: pd.DataFrame) -> pd.DataFrame:\n",
    "    user_id = confirmations['user_id'].to_list()\n",
    "    result_df=[]\n",
    "    for i in signups['user_id']:\n",
    "        if i in user_id:\n",
    "            con_rate = round(len(confirmations[(confirmations.user_id == i) & (confirmations.action=='confirmed')]) / len(confirmations[(confirmations.user_id == i)]), 2)\n",
    "            result_df.append({'user_id': i,'confirmation_rate':con_rate})\n",
    "        else:\n",
    "            result_df.append({'user_id': i,'confirmation_rate':0})\n",
    "\n",
    "    return pd.DataFrame(result_df)"
   ]
  }
 ],
 "metadata": {
  "kernelspec": {
   "display_name": "Python 3 (ipykernel)",
   "language": "python",
   "name": "python3"
  },
  "language_info": {
   "codemirror_mode": {
    "name": "ipython",
    "version": 3
   },
   "file_extension": ".py",
   "mimetype": "text/x-python",
   "name": "python",
   "nbconvert_exporter": "python",
   "pygments_lexer": "ipython3",
   "version": "3.11.3"
  }
 },
 "nbformat": 4,
 "nbformat_minor": 5
}
