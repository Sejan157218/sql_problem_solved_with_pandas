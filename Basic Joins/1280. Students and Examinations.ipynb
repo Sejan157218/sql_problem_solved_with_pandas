{
 "cells": [
  {
   "cell_type": "code",
   "execution_count": null,
   "id": "1020c942",
   "metadata": {},
   "outputs": [],
   "source": [
    "import pandas as pd\n",
    "\n",
    "def students_and_examinations(students: pd.DataFrame, subjects: pd.DataFrame, examinations: pd.DataFrame) -> pd.DataFrame:\n",
    "    join_df= students.merge(subjects,how='cross')\n",
    "    join_df_gr= examinations.groupby(['student_id','subject_name']).size().reset_index(name='attended_exams')[['student_id','subject_name','attended_exams' ]]\n",
    "    merge_df = join_df.merge(join_df_gr, left_on=['student_id','subject_name'],right_on=['student_id','subject_name'], how='outer')\n",
    "\n",
    "    merge_df['attended_exams'] = merge_df.attended_exams.fillna(0)\n",
    "\n",
    "    return merge_df.sort_values(by=['student_id','subject_name'])[['student_id','student_name', 'subject_name', 'attended_exams']]\n",
    "    "
   ]
  }
 ],
 "metadata": {
  "kernelspec": {
   "display_name": "Python 3 (ipykernel)",
   "language": "python",
   "name": "python3"
  },
  "language_info": {
   "codemirror_mode": {
    "name": "ipython",
    "version": 3
   },
   "file_extension": ".py",
   "mimetype": "text/x-python",
   "name": "python",
   "nbconvert_exporter": "python",
   "pygments_lexer": "ipython3",
   "version": "3.11.3"
  }
 },
 "nbformat": 4,
 "nbformat_minor": 5
}
