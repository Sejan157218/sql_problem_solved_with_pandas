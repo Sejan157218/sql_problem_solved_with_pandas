{
 "cells": [
  {
   "cell_type": "code",
   "execution_count": null,
   "id": "c4a2949a",
   "metadata": {},
   "outputs": [],
   "source": [
    "import pandas as pd\n",
    "import numpy as np\n",
    "\n",
    "def rising_temperature(weather: pd.DataFrame) -> pd.DataFrame:\n",
    "    weather['recordDate'] = pd.to_datetime(weather.recordDate)\n",
    "    weather_sort = weather.sort_values(by=['recordDate'])\n",
    "    weather_sort['pre_date'] = weather_sort['recordDate'].shift(1)\n",
    "    weather_sort['pre_temperature'] = weather_sort['temperature'].shift(1)\n",
    "    weather_sort['diff_days'] = (weather_sort['recordDate'] - weather_sort['pre_date']) / np.timedelta64(1, 'D')\n",
    "\n",
    "    result_dff = weather_sort[(weather_sort.diff_days==1.0) & (weather_sort.temperature > weather_sort.pre_temperature)][['id']]\n",
    "    return result_dff"
   ]
  }
 ],
 "metadata": {
  "kernelspec": {
   "display_name": "Python 3 (ipykernel)",
   "language": "python",
   "name": "python3"
  },
  "language_info": {
   "codemirror_mode": {
    "name": "ipython",
    "version": 3
   },
   "file_extension": ".py",
   "mimetype": "text/x-python",
   "name": "python",
   "nbconvert_exporter": "python",
   "pygments_lexer": "ipython3",
   "version": "3.11.3"
  }
 },
 "nbformat": 4,
 "nbformat_minor": 5
}
