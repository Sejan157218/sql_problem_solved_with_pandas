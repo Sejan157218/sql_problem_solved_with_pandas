{
 "cells": [
  {
   "cell_type": "code",
   "execution_count": null,
   "id": "cd37ebfe",
   "metadata": {},
   "outputs": [],
   "source": [
    "import pandas as pd\n",
    "\n",
    "def movie_rating(movies: pd.DataFrame, users: pd.DataFrame, movie_rating: pd.DataFrame) -> pd.DataFrame:\n",
    "    df_merge = movie_rating.merge(users, on='user_id')\n",
    "    df2_merge = df_merge.merge(movies, on='movie_id')\n",
    "    df = df2_merge.groupby(['name'])['movie_id'].count().reset_index().sort_values(by=['movie_id', 'name'], ascending=[False, True]).head(1)['name'].tolist()\n",
    "    df3 = df2_merge[(df2_merge.created_at.dt.month==2) & (df2_merge.created_at.dt.year==2020)].groupby(['title'])['rating'].mean().reset_index().sort_values(by=['rating', 'title'], ascending=[False, True]).head(1)['title'].tolist()\n",
    "\n",
    "    return pd.DataFrame({\"results\": df+df3})"
   ]
  }
 ],
 "metadata": {
  "kernelspec": {
   "display_name": "Python 3 (ipykernel)",
   "language": "python",
   "name": "python3"
  },
  "language_info": {
   "codemirror_mode": {
    "name": "ipython",
    "version": 3
   },
   "file_extension": ".py",
   "mimetype": "text/x-python",
   "name": "python",
   "nbconvert_exporter": "python",
   "pygments_lexer": "ipython3",
   "version": "3.11.3"
  }
 },
 "nbformat": 4,
 "nbformat_minor": 5
}
