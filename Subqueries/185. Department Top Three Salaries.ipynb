{
 "cells": [
  {
   "cell_type": "code",
   "execution_count": null,
   "id": "3db1d0c5",
   "metadata": {},
   "outputs": [],
   "source": [
    "import pandas as pd\n",
    "\n",
    "def top_three_salaries(employee: pd.DataFrame, department: pd.DataFrame) -> pd.DataFrame:\n",
    "    if len(employee)==0:\n",
    "        return pd.DataFrame(columns=['Department','Employee','Salary'])\n",
    "    df = employee.merge(department, left_on='departmentId', right_on='id')\n",
    "    df2 = df.groupby('name_y').apply(lambda x: x.sort_values(by=['salary'], ascending=False)['salary'].unique()[:3]).reset_index(name='unique_salary')\n",
    "    data = []\n",
    "    for i,j in zip(df2['name_y'],df2['unique_salary']):\n",
    "        for k in j:\n",
    "            data.append([i, k])\n",
    "    new_df = pd.DataFrame(data, columns=['Department','Salary'])\n",
    "    result_df = new_df.merge(df, left_on=['Department','Salary'], right_on=['name_y', 'salary'])[['Department','name_x', 'Salary']] \n",
    "\n",
    "    return result_df.rename(columns={\"name_x\":\"Employee\"})"
   ]
  }
 ],
 "metadata": {
  "kernelspec": {
   "display_name": "Python 3 (ipykernel)",
   "language": "python",
   "name": "python3"
  },
  "language_info": {
   "codemirror_mode": {
    "name": "ipython",
    "version": 3
   },
   "file_extension": ".py",
   "mimetype": "text/x-python",
   "name": "python",
   "nbconvert_exporter": "python",
   "pygments_lexer": "ipython3",
   "version": "3.11.3"
  }
 },
 "nbformat": 4,
 "nbformat_minor": 5
}
