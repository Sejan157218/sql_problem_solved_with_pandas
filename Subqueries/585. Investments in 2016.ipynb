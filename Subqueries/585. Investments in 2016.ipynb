{
 "cells": [
  {
   "cell_type": "code",
   "execution_count": null,
   "id": "a0ceec3d",
   "metadata": {},
   "outputs": [],
   "source": [
    "import pandas as pd\n",
    "\n",
    "def find_investments(insurance: pd.DataFrame) -> pd.DataFrame:\n",
    "    insurance['lat_lon'] = insurance.lat+insurance.lon\n",
    "    insurance['duplicated'] = insurance['lat_lon'].duplicated(keep=False)\n",
    "    insurance['tiv_duplicated'] = insurance['tiv_2015'].duplicated(keep=False)\n",
    "    df = round(insurance[(insurance['duplicated']==False) & (insurance['tiv_duplicated']==True)]['tiv_2016'].sum(),2)\n",
    "    return pd.DataFrame([[df]], columns=['tiv_2016'])\n",
    "    "
   ]
  }
 ],
 "metadata": {
  "kernelspec": {
   "display_name": "Python 3 (ipykernel)",
   "language": "python",
   "name": "python3"
  },
  "language_info": {
   "codemirror_mode": {
    "name": "ipython",
    "version": 3
   },
   "file_extension": ".py",
   "mimetype": "text/x-python",
   "name": "python",
   "nbconvert_exporter": "python",
   "pygments_lexer": "ipython3",
   "version": "3.11.3"
  }
 },
 "nbformat": 4,
 "nbformat_minor": 5
}
