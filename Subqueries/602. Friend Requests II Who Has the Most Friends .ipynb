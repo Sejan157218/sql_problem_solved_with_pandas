{
 "cells": [
  {
   "cell_type": "code",
   "execution_count": null,
   "id": "4942c954",
   "metadata": {},
   "outputs": [],
   "source": [
    "import pandas as pd\n",
    "\n",
    "def most_friends(request_accepted: pd.DataFrame) -> pd.DataFrame:\n",
    "    df = request_accepted.groupby(['requester_id'])['requester_id'].count().reset_index(name='count')\n",
    "    df2 = request_accepted.groupby(['accepter_id'])['accepter_id'].count().reset_index(name='count2')\n",
    "    merge_df = df.merge(df2, left_on = 'requester_id', right_on = 'accepter_id',how ='outer')\n",
    "    merge_df['count'] = merge_df['count'].fillna(0)\n",
    "    merge_df['count2'] = merge_df['count2'].fillna(0)\n",
    "    merge_df['requester_id'] = merge_df['requester_id'].fillna(merge_df['accepter_id'])\n",
    "    merge_df['num'] = merge_df['count']+merge_df['count2']\n",
    "    return merge_df.sort_values(by=['num'], ascending=False).head(1).rename(columns={\"requester_id\":\"id\"})[['id', 'num']]\n",
    "    "
   ]
  }
 ],
 "metadata": {
  "kernelspec": {
   "display_name": "Python 3 (ipykernel)",
   "language": "python",
   "name": "python3"
  },
  "language_info": {
   "codemirror_mode": {
    "name": "ipython",
    "version": 3
   },
   "file_extension": ".py",
   "mimetype": "text/x-python",
   "name": "python",
   "nbconvert_exporter": "python",
   "pygments_lexer": "ipython3",
   "version": "3.11.3"
  }
 },
 "nbformat": 4,
 "nbformat_minor": 5
}
