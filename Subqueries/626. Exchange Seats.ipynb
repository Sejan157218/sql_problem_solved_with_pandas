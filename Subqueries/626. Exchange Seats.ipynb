{
 "cells": [
  {
   "cell_type": "code",
   "execution_count": null,
   "id": "5ff3924d",
   "metadata": {},
   "outputs": [],
   "source": [
    "import pandas as pd\n",
    "\n",
    "def exchange_seats(seat: pd.DataFrame) -> pd.DataFrame:\n",
    "    seat['df1']  = seat['student'].shift(1)\n",
    "    seat['df2']  = seat['student'].shift(-1)\n",
    "    seat['student'] = seat.apply(lambda x: (x['df1'] if x['df1']!=None else x['student']) if x['id']%2==0 else (x['df2'] if x['df2']!=None else x['student']), axis=1)\n",
    "    return seat[['id','student']]"
   ]
  }
 ],
 "metadata": {
  "kernelspec": {
   "display_name": "Python 3 (ipykernel)",
   "language": "python",
   "name": "python3"
  },
  "language_info": {
   "codemirror_mode": {
    "name": "ipython",
    "version": 3
   },
   "file_extension": ".py",
   "mimetype": "text/x-python",
   "name": "python",
   "nbconvert_exporter": "python",
   "pygments_lexer": "ipython3",
   "version": "3.11.3"
  }
 },
 "nbformat": 4,
 "nbformat_minor": 5
}
