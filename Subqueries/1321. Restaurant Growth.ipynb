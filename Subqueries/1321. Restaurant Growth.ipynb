{
 "cells": [
  {
   "cell_type": "code",
   "execution_count": null,
   "id": "aab3b4e7",
   "metadata": {},
   "outputs": [],
   "source": [
    "import pandas as pd\n",
    "\n",
    "def restaurant_growth(customer: pd.DataFrame) -> pd.DataFrame:\n",
    "    customer.sort_values(by=['visited_on'])\n",
    "    data =[]\n",
    "    to_lst = customer['visited_on'].to_list()\n",
    "    for i in to_lst:\n",
    "        date = i+pd.DateOffset(6)\n",
    "        if date in to_lst:\n",
    "            amount_sum = customer[customer['visited_on'].between(i, i+ pd.DateOffset(6))]['amount'].sum()\n",
    "            data.append([date,amount_sum,round(amount_sum/7,2)])  \n",
    "    return pd.DataFrame(data, columns=['visited_on', 'amount','average_amount']).drop_duplicates(subset=['visited_on'], keep='first') "
   ]
  }
 ],
 "metadata": {
  "kernelspec": {
   "display_name": "Python 3 (ipykernel)",
   "language": "python",
   "name": "python3"
  },
  "language_info": {
   "codemirror_mode": {
    "name": "ipython",
    "version": 3
   },
   "file_extension": ".py",
   "mimetype": "text/x-python",
   "name": "python",
   "nbconvert_exporter": "python",
   "pygments_lexer": "ipython3",
   "version": "3.11.3"
  }
 },
 "nbformat": 4,
 "nbformat_minor": 5
}
