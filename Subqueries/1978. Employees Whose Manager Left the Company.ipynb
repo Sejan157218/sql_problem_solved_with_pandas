{
 "cells": [
  {
   "cell_type": "code",
   "execution_count": null,
   "id": "4b384a18",
   "metadata": {},
   "outputs": [],
   "source": [
    "import pandas as pd\n",
    "\n",
    "def find_employees(employees: pd.DataFrame) -> pd.DataFrame:\n",
    "    result_df = employees[(employees['salary']<30000) & (employees['manager_id'].notna()) & (~employees['manager_id'].isin(employees['employee_id']))][['employee_id']]\n",
    "\n",
    "    return result_df.sort_values(by='employee_id')\n",
    "    "
   ]
  }
 ],
 "metadata": {
  "kernelspec": {
   "display_name": "Python 3 (ipykernel)",
   "language": "python",
   "name": "python3"
  },
  "language_info": {
   "codemirror_mode": {
    "name": "ipython",
    "version": 3
   },
   "file_extension": ".py",
   "mimetype": "text/x-python",
   "name": "python",
   "nbconvert_exporter": "python",
   "pygments_lexer": "ipython3",
   "version": "3.11.3"
  }
 },
 "nbformat": 4,
 "nbformat_minor": 5
}
