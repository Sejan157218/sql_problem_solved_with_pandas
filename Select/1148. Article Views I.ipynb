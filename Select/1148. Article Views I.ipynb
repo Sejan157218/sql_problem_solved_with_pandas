{
 "cells": [
  {
   "cell_type": "code",
   "execution_count": null,
   "id": "3527af87",
   "metadata": {},
   "outputs": [],
   "source": [
    "import pandas as pd\n",
    "\n",
    "def article_views(views: pd.DataFrame) -> pd.DataFrame:\n",
    "    df = views[views.author_id==views.viewer_id]\n",
    "    convert_list = df['author_id'].tolist()\n",
    "    result_df = pd.DataFrame({\"id\":sorted(list(set(convert_list)))})\n",
    "    return result_df"
   ]
  }
 ],
 "metadata": {
  "kernelspec": {
   "display_name": "Python 3 (ipykernel)",
   "language": "python",
   "name": "python3"
  },
  "language_info": {
   "codemirror_mode": {
    "name": "ipython",
    "version": 3
   },
   "file_extension": ".py",
   "mimetype": "text/x-python",
   "name": "python",
   "nbconvert_exporter": "python",
   "pygments_lexer": "ipython3",
   "version": "3.11.3"
  }
 },
 "nbformat": 4,
 "nbformat_minor": 5
}
