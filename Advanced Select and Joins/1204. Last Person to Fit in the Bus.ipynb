{
 "cells": [
  {
   "cell_type": "code",
   "execution_count": null,
   "id": "4d03e114",
   "metadata": {},
   "outputs": [],
   "source": [
    "import pandas as pd\n",
    "\n",
    "def last_passenger(queue: pd.DataFrame) -> pd.DataFrame:\n",
    "    df = queue.sort_values(by='turn')\n",
    "    df['sum_weight'] = df['weight'].cumsum()\n",
    "    result = df[df['sum_weight']<=1000].tail(1)[['person_name']]\n",
    "    return result\n",
    "    "
   ]
  }
 ],
 "metadata": {
  "kernelspec": {
   "display_name": "Python 3 (ipykernel)",
   "language": "python",
   "name": "python3"
  },
  "language_info": {
   "codemirror_mode": {
    "name": "ipython",
    "version": 3
   },
   "file_extension": ".py",
   "mimetype": "text/x-python",
   "name": "python",
   "nbconvert_exporter": "python",
   "pygments_lexer": "ipython3",
   "version": "3.11.3"
  }
 },
 "nbformat": 4,
 "nbformat_minor": 5
}
