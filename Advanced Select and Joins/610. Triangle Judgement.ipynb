{
 "cells": [
  {
   "cell_type": "code",
   "execution_count": null,
   "id": "3986e8fa",
   "metadata": {},
   "outputs": [],
   "source": [
    "import pandas as pd\n",
    "import numpy as np\n",
    "def triangle_judgement(triangle: pd.DataFrame) -> pd.DataFrame:\n",
    "    triangle['triangle'] = np.where(\n",
    "        (triangle['x']+triangle['y']>triangle['z']) &\n",
    "        (triangle['x']+triangle['z']>triangle['y']) & \n",
    "        (triangle['y']+triangle['z']>triangle['x']), \"Yes\",\"No\"\n",
    "    )\n",
    "    # triangle['triangle'] = triangle.apply(lambda dt: \"Yes\" if ((dt.x+dt.y>dt.z) & (dt.x+dt.z>dt.y) & (dt.z+dt.y>dt.x)) else \"No\", axis=1)\n",
    "    return triangle\n",
    "    "
   ]
  }
 ],
 "metadata": {
  "kernelspec": {
   "display_name": "Python 3 (ipykernel)",
   "language": "python",
   "name": "python3"
  },
  "language_info": {
   "codemirror_mode": {
    "name": "ipython",
    "version": 3
   },
   "file_extension": ".py",
   "mimetype": "text/x-python",
   "name": "python",
   "nbconvert_exporter": "python",
   "pygments_lexer": "ipython3",
   "version": "3.11.3"
  }
 },
 "nbformat": 4,
 "nbformat_minor": 5
}
