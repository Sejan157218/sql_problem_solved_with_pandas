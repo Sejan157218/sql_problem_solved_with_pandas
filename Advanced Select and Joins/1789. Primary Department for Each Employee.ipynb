{
 "cells": [
  {
   "cell_type": "code",
   "execution_count": null,
   "id": "2cd6a541",
   "metadata": {},
   "outputs": [],
   "source": [
    "import pandas as pd\n",
    "\n",
    "def find_primary_department(employee: pd.DataFrame) -> pd.DataFrame:\n",
    "    employee['duplicated'] = employee['employee_id'].duplicated(keep=False)\n",
    "    result_df = employee[(employee['primary_flag']=='Y') | (employee['duplicated']==False)][['employee_id','department_id']]\n",
    "    return result_df \n",
    "    "
   ]
  }
 ],
 "metadata": {
  "kernelspec": {
   "display_name": "Python 3 (ipykernel)",
   "language": "python",
   "name": "python3"
  },
  "language_info": {
   "codemirror_mode": {
    "name": "ipython",
    "version": 3
   },
   "file_extension": ".py",
   "mimetype": "text/x-python",
   "name": "python",
   "nbconvert_exporter": "python",
   "pygments_lexer": "ipython3",
   "version": "3.11.3"
  }
 },
 "nbformat": 4,
 "nbformat_minor": 5
}
