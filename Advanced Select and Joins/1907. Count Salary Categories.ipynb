{
 "cells": [
  {
   "cell_type": "code",
   "execution_count": null,
   "id": "3737ea1d",
   "metadata": {},
   "outputs": [],
   "source": [
    "import pandas as pd\n",
    "\n",
    "def count_salary_categories(accounts: pd.DataFrame) -> pd.DataFrame:\n",
    "    low = len(accounts[accounts['income']<20000])\n",
    "    avr = len(accounts[(accounts['income']>=20000) & (accounts['income']<=50000)])\n",
    "    high = len(accounts[accounts['income']>50000])\n",
    "    data = [['Low Salary', low], ['Average Salary', avr], ['High Salary', high]] \n",
    "\n",
    "    return pd.DataFrame(data, columns=['category', 'accounts_count'])\n",
    "    "
   ]
  }
 ],
 "metadata": {
  "kernelspec": {
   "display_name": "Python 3 (ipykernel)",
   "language": "python",
   "name": "python3"
  },
  "language_info": {
   "codemirror_mode": {
    "name": "ipython",
    "version": 3
   },
   "file_extension": ".py",
   "mimetype": "text/x-python",
   "name": "python",
   "nbconvert_exporter": "python",
   "pygments_lexer": "ipython3",
   "version": "3.11.3"
  }
 },
 "nbformat": 4,
 "nbformat_minor": 5
}
