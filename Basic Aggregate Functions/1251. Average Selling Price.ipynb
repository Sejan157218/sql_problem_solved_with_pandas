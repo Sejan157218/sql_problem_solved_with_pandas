{
 "cells": [
  {
   "cell_type": "code",
   "execution_count": null,
   "id": "8f8fc1d5",
   "metadata": {},
   "outputs": [],
   "source": [
    "import pandas as pd\n",
    "\n",
    "def average_selling_price(prices: pd.DataFrame, units_sold: pd.DataFrame) -> pd.DataFrame:\n",
    "    merge_df = units_sold.merge(prices, on='product_id', how='outer')\n",
    "    merge_df_filter = merge_df[(merge_df.end_date>=merge_df.purchase_date) & (merge_df.start_date<=merge_df.purchase_date) | merge_df.purchase_date.isnull()]\n",
    "    merge_df_filter['total_price'] = merge_df_filter.price * merge_df_filter.units\n",
    "    result_df = merge_df_filter.groupby(by='product_id').apply(lambda x: round(x['total_price'].sum()/x['units'].sum(),2)).reset_index(name='average_price')\n",
    "    result_df['average_price']= result_df.average_price.fillna(0)\n",
    "    return result_df"
   ]
  }
 ],
 "metadata": {
  "kernelspec": {
   "display_name": "Python 3 (ipykernel)",
   "language": "python",
   "name": "python3"
  },
  "language_info": {
   "codemirror_mode": {
    "name": "ipython",
    "version": 3
   },
   "file_extension": ".py",
   "mimetype": "text/x-python",
   "name": "python",
   "nbconvert_exporter": "python",
   "pygments_lexer": "ipython3",
   "version": "3.11.3"
  }
 },
 "nbformat": 4,
 "nbformat_minor": 5
}
