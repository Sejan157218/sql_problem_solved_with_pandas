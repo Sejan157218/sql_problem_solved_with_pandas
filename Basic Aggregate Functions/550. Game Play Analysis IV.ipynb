{
 "cells": [
  {
   "cell_type": "code",
   "execution_count": null,
   "id": "12f1c06d",
   "metadata": {},
   "outputs": [],
   "source": [
    "import pandas as pd\n",
    "\n",
    "def gameplay_analysis(activity: pd.DataFrame) -> pd.DataFrame:\n",
    "    activity.sort_values(by=['player_id','event_date'], ascending=False, inplace=True)\n",
    "    activity['diff'] =activity.groupby(['player_id'])['event_date'].diff()\n",
    "    activity.drop_duplicates(subset='player_id',keep='last', inplace=True)\n",
    "    return pd.DataFrame([round(len(activity[activity['diff']=='-1 days'])/activity.player_id.nunique(),2)], columns=['fraction']) "
   ]
  }
 ],
 "metadata": {
  "kernelspec": {
   "display_name": "Python 3 (ipykernel)",
   "language": "python",
   "name": "python3"
  },
  "language_info": {
   "codemirror_mode": {
    "name": "ipython",
    "version": 3
   },
   "file_extension": ".py",
   "mimetype": "text/x-python",
   "name": "python",
   "nbconvert_exporter": "python",
   "pygments_lexer": "ipython3",
   "version": "3.11.3"
  }
 },
 "nbformat": 4,
 "nbformat_minor": 5
}
