{
 "cells": [
  {
   "cell_type": "code",
   "execution_count": null,
   "id": "45c3d8c3",
   "metadata": {},
   "outputs": [],
   "source": [
    "import pandas as pd\n",
    "\n",
    "def users_percentage(users: pd.DataFrame, register: pd.DataFrame) -> pd.DataFrame:\n",
    "    user_len = len(users)\n",
    "    result_df = register.groupby(by='contest_id')['user_id'].count().reset_index()\n",
    "    result_df['percentage'] = round((result_df['user_id']/user_len)*100, 2)\n",
    "    return result_df[['contest_id', 'percentage']].sort_values(by=['percentage','contest_id'], ascending=[False, True])"
   ]
  }
 ],
 "metadata": {
  "kernelspec": {
   "display_name": "Python 3 (ipykernel)",
   "language": "python",
   "name": "python3"
  },
  "language_info": {
   "codemirror_mode": {
    "name": "ipython",
    "version": 3
   },
   "file_extension": ".py",
   "mimetype": "text/x-python",
   "name": "python",
   "nbconvert_exporter": "python",
   "pygments_lexer": "ipython3",
   "version": "3.11.3"
  }
 },
 "nbformat": 4,
 "nbformat_minor": 5
}
