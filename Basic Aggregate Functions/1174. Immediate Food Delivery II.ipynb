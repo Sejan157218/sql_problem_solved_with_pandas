{
 "cells": [
  {
   "cell_type": "code",
   "execution_count": null,
   "id": "cd667ab8",
   "metadata": {},
   "outputs": [],
   "source": [
    "import pandas as pd\n",
    "\n",
    "def immediate_food_delivery(delivery: pd.DataFrame) -> pd.DataFrame:\n",
    "    sordt_df = delivery.sort_values(by=['customer_id','order_date'])\n",
    "    drop_dub = (sordt_df.drop_duplicates(subset='customer_id', keep=\"first\"))\n",
    "    df = len(drop_dub[drop_dub['order_date']==drop_dub['customer_pref_delivery_date']])\n",
    "    result_df = pd.DataFrame([round(df/len(drop_dub)*100, 2)], columns=['immediate_percentage']) \n",
    "    return result_df"
   ]
  }
 ],
 "metadata": {
  "kernelspec": {
   "display_name": "Python 3 (ipykernel)",
   "language": "python",
   "name": "python3"
  },
  "language_info": {
   "codemirror_mode": {
    "name": "ipython",
    "version": 3
   },
   "file_extension": ".py",
   "mimetype": "text/x-python",
   "name": "python",
   "nbconvert_exporter": "python",
   "pygments_lexer": "ipython3",
   "version": "3.11.3"
  }
 },
 "nbformat": 4,
 "nbformat_minor": 5
}
