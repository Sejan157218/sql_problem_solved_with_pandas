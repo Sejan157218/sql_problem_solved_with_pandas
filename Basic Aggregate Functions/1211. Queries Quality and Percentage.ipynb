{
 "cells": [
  {
   "cell_type": "code",
   "execution_count": null,
   "id": "412e023e",
   "metadata": {},
   "outputs": [],
   "source": [
    "import pandas as pd\n",
    "\n",
    "def queries_stats(queries: pd.DataFrame) -> pd.DataFrame:\n",
    "\n",
    "    queries['poor_query'] = (queries.rating<3)*100\n",
    "\n",
    "    df = queries.groupby(by='query_name').apply(lambda x: round(((x['rating']/x['position'] + 1e-6).sum())/x['query_name'].count(),2)).reset_index(name='quality')\n",
    "    df2 = queries.groupby(by='query_name').apply(lambda x: round(((x['poor_query']).sum())/x['query_name'].count(),2)).reset_index(name='poor_query_percentage')\n",
    "\n",
    "    return df.merge(df2, on='query_name', how='left')"
   ]
  }
 ],
 "metadata": {
  "kernelspec": {
   "display_name": "Python 3 (ipykernel)",
   "language": "python",
   "name": "python3"
  },
  "language_info": {
   "codemirror_mode": {
    "name": "ipython",
    "version": 3
   },
   "file_extension": ".py",
   "mimetype": "text/x-python",
   "name": "python",
   "nbconvert_exporter": "python",
   "pygments_lexer": "ipython3",
   "version": "3.11.3"
  }
 },
 "nbformat": 4,
 "nbformat_minor": 5
}
