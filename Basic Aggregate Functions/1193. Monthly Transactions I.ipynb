{
 "cells": [
  {
   "cell_type": "code",
   "execution_count": null,
   "id": "1b9025a6",
   "metadata": {},
   "outputs": [],
   "source": [
    "import pandas as pd\n",
    "\n",
    "def monthly_transactions(transactions: pd.DataFrame) -> pd.DataFrame:\n",
    "    transactions['month'] = transactions['trans_date'].dt.strftime('%Y-%m')\n",
    "    transactions['trans_count'] = transactions.groupby(by=['country','month'])['id'].transform('count')\n",
    "    transactions['approved_count'] = transactions.groupby(by=['country','month'])['state'].transform(lambda x : x.loc[x=='approved'].count())\n",
    "    transactions['trans_total_amount'] = transactions.groupby(by=['country','month'])['amount'].transform('sum')\n",
    "    transactions_df = transactions.groupby(['month','country','trans_count','approved_count','trans_total_amount']).apply(lambda x: x[x['state']=='approved']['amount'].sum()).reset_index(name='approved_total_amount')\n",
    "    return transactions_df"
   ]
  }
 ],
 "metadata": {
  "kernelspec": {
   "display_name": "Python 3 (ipykernel)",
   "language": "python",
   "name": "python3"
  },
  "language_info": {
   "codemirror_mode": {
    "name": "ipython",
    "version": 3
   },
   "file_extension": ".py",
   "mimetype": "text/x-python",
   "name": "python",
   "nbconvert_exporter": "python",
   "pygments_lexer": "ipython3",
   "version": "3.11.3"
  }
 },
 "nbformat": 4,
 "nbformat_minor": 5
}
